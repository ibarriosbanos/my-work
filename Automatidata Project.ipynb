{
 "cells": [
  {
   "cell_type": "markdown",
   "metadata": {},
   "source": [
    "## Course 5 End-of-course project: Build a multiple linear regression model¶\n",
    "\n",
    "**The purpose** of this project is to demostrate knowledge of EDA and a multiple linear regression model\n",
    "\n",
    "**The goal** is to build a multiple linear regression model and evaluate the model\n",
    "\n",
    "This activity has three parts:\n",
    "\n",
    "#### Part 1: EDA & Checking Model Assumptions\n",
    "What are some purposes of EDA before constructing a multiple linear regression model?\n",
    "\n",
    "#### Part 2: Model Building and evaluation\n",
    "What resources do you find yourself using as you complete this stage?\n",
    "\n",
    "#### Part 3: Interpreting Model Results\n",
    "What key insights emerged from your model(s)?\n",
    "What business recommendations do you propose based on the models built?"
   ]
  },
  {
   "cell_type": "markdown",
   "metadata": {},
   "source": [
    "#### **Task 1. Imports and loading**\n",
    "\n",
    "Import the packages that you've learned are needed for building linear regression models."
   ]
  },
  {
   "cell_type": "code",
   "execution_count": 7,
   "metadata": {},
   "outputs": [
    {
     "name": "stdout",
     "output_type": "stream",
     "text": [
      "Collecting numpy\n",
      "  Downloading numpy-2.0.2-cp39-cp39-macosx_14_0_x86_64.whl (6.9 MB)\n",
      "\u001b[2K     \u001b[90m━━━━━━━━━━━━━━━━━━━━━━━━━━━━━━━━━━━━━━━━\u001b[0m \u001b[32m6.9/6.9 MB\u001b[0m \u001b[31m32.2 MB/s\u001b[0m eta \u001b[36m0:00:00\u001b[0m00:01\u001b[0m00:01\u001b[0m\n",
      "\u001b[?25hCollecting pandas\n",
      "  Downloading pandas-2.2.3-cp39-cp39-macosx_10_9_x86_64.whl (12.6 MB)\n",
      "\u001b[2K     \u001b[90m━━━━━━━━━━━━━━━━━━━━━━━━━━━━━━━━━━━━━━━━\u001b[0m \u001b[32m12.6/12.6 MB\u001b[0m \u001b[31m34.6 MB/s\u001b[0m eta \u001b[36m0:00:00\u001b[0m00:01\u001b[0m00:01\u001b[0m\n",
      "\u001b[?25hCollecting matplotlib\n",
      "  Downloading matplotlib-3.9.4-cp39-cp39-macosx_10_12_x86_64.whl (7.9 MB)\n",
      "\u001b[2K     \u001b[90m━━━━━━━━━━━━━━━━━━━━━━━━━━━━━━━━━━━━━━━━\u001b[0m \u001b[32m7.9/7.9 MB\u001b[0m \u001b[31m46.1 MB/s\u001b[0m eta \u001b[36m0:00:00\u001b[0m00:01\u001b[0m00:01\u001b[0m\n",
      "\u001b[?25hCollecting seaborn\n",
      "  Downloading seaborn-0.13.2-py3-none-any.whl (294 kB)\n",
      "\u001b[2K     \u001b[90m━━━━━━━━━━━━━━━━━━━━━━━━━━━━━━━━━━━━━━━\u001b[0m \u001b[32m294.9/294.9 kB\u001b[0m \u001b[31m8.7 MB/s\u001b[0m eta \u001b[36m0:00:00\u001b[0m\n",
      "\u001b[?25hCollecting statsmodels\n",
      "  Downloading statsmodels-0.14.4-cp39-cp39-macosx_10_9_x86_64.whl (10.2 MB)\n",
      "\u001b[2K     \u001b[90m━━━━━━━━━━━━━━━━━━━━━━━━━━━━━━━━━━━━━━━━\u001b[0m \u001b[32m10.2/10.2 MB\u001b[0m \u001b[31m38.9 MB/s\u001b[0m eta \u001b[36m0:00:00\u001b[0m00:01\u001b[0m0:01\u001b[0m\n",
      "\u001b[?25hCollecting scikit-learn\n",
      "  Downloading scikit_learn-1.6.1-cp39-cp39-macosx_10_9_x86_64.whl (12.1 MB)\n",
      "\u001b[2K     \u001b[90m━━━━━━━━━━━━━━━━━━━━━━━━━━━━━━━━━━━━━━━━\u001b[0m \u001b[32m12.1/12.1 MB\u001b[0m \u001b[31m48.7 MB/s\u001b[0m eta \u001b[36m0:00:00\u001b[0m00:01\u001b[0m0:01\u001b[0m\n",
      "\u001b[?25hCollecting pytz>=2020.1\n",
      "  Downloading pytz-2025.1-py2.py3-none-any.whl (507 kB)\n",
      "\u001b[2K     \u001b[90m━━━━━━━━━━━━━━━━━━━━━━━━━━━━━━━━━━━━━━\u001b[0m \u001b[32m507.9/507.9 kB\u001b[0m \u001b[31m10.3 MB/s\u001b[0m eta \u001b[36m0:00:00\u001b[0m00:01\u001b[0m\n",
      "\u001b[?25hCollecting tzdata>=2022.7\n",
      "  Downloading tzdata-2025.1-py2.py3-none-any.whl (346 kB)\n",
      "\u001b[2K     \u001b[90m━━━━━━━━━━━━━━━━━━━━━━━━━━━━━━━━━━━━━━━\u001b[0m \u001b[32m346.8/346.8 kB\u001b[0m \u001b[31m6.7 MB/s\u001b[0m eta \u001b[36m0:00:00\u001b[0m00:01\u001b[0m\n",
      "\u001b[?25hRequirement already satisfied: python-dateutil>=2.8.2 in /Users/ignaciobarrios/.pyenv/versions/3.9.17/lib/python3.9/site-packages (from pandas) (2.9.0.post0)\n",
      "Collecting kiwisolver>=1.3.1\n",
      "  Downloading kiwisolver-1.4.7-cp39-cp39-macosx_10_9_x86_64.whl (65 kB)\n",
      "\u001b[2K     \u001b[90m━━━━━━━━━━━━━━━━━━━━━━━━━━━━━━━━━━━━━━━━\u001b[0m \u001b[32m65.8/65.8 kB\u001b[0m \u001b[31m1.7 MB/s\u001b[0m eta \u001b[36m0:00:00\u001b[0m\n",
      "\u001b[?25hCollecting pyparsing>=2.3.1\n",
      "  Downloading pyparsing-3.2.1-py3-none-any.whl (107 kB)\n",
      "\u001b[2K     \u001b[90m━━━━━━━━━━━━━━━━━━━━━━━━━━━━━━━━━━━━━━━\u001b[0m \u001b[32m107.7/107.7 kB\u001b[0m \u001b[31m2.2 MB/s\u001b[0m eta \u001b[36m0:00:00\u001b[0ma \u001b[36m0:00:01\u001b[0m\n",
      "\u001b[?25hCollecting importlib-resources>=3.2.0\n",
      "  Downloading importlib_resources-6.5.2-py3-none-any.whl (37 kB)\n",
      "Collecting contourpy>=1.0.1\n",
      "  Downloading contourpy-1.3.0-cp39-cp39-macosx_10_9_x86_64.whl (265 kB)\n",
      "\u001b[2K     \u001b[90m━━━━━━━━━━━━━━━━━━━━━━━━━━━━━━━━━━━━━━━\u001b[0m \u001b[32m265.5/265.5 kB\u001b[0m \u001b[31m6.0 MB/s\u001b[0m eta \u001b[36m0:00:00\u001b[0ma \u001b[36m0:00:01\u001b[0m\n",
      "\u001b[?25hCollecting pillow>=8\n",
      "  Downloading pillow-11.1.0-cp39-cp39-macosx_10_10_x86_64.whl (3.2 MB)\n",
      "\u001b[2K     \u001b[90m━━━━━━━━━━━━━━━━━━━━━━━━━━━━━━━━━━━━━━━━\u001b[0m \u001b[32m3.2/3.2 MB\u001b[0m \u001b[31m39.5 MB/s\u001b[0m eta \u001b[36m0:00:00\u001b[0m00:01\u001b[0m\n",
      "\u001b[?25hCollecting cycler>=0.10\n",
      "  Downloading cycler-0.12.1-py3-none-any.whl (8.3 kB)\n",
      "Collecting fonttools>=4.22.0\n",
      "  Downloading fonttools-4.56.0-cp39-cp39-macosx_10_9_x86_64.whl (2.3 MB)\n",
      "\u001b[2K     \u001b[90m━━━━━━━━━━━━━━━━━━━━━━━━━━━━━━━━━━━━━━━━\u001b[0m \u001b[32m2.3/2.3 MB\u001b[0m \u001b[31m37.5 MB/s\u001b[0m eta \u001b[36m0:00:00\u001b[0m00:01\u001b[0m\n",
      "\u001b[?25hRequirement already satisfied: packaging>=20.0 in /Users/ignaciobarrios/.pyenv/versions/3.9.17/lib/python3.9/site-packages (from matplotlib) (24.1)\n",
      "Collecting patsy>=0.5.6\n",
      "  Downloading patsy-1.0.1-py2.py3-none-any.whl (232 kB)\n",
      "\u001b[2K     \u001b[90m━━━━━━━━━━━━━━━━━━━━━━━━━━━━━━━━━━━━━━━\u001b[0m \u001b[32m232.9/232.9 kB\u001b[0m \u001b[31m7.3 MB/s\u001b[0m eta \u001b[36m0:00:00\u001b[0m\n",
      "\u001b[?25hCollecting scipy!=1.9.2,>=1.8\n",
      "  Downloading scipy-1.13.1-cp39-cp39-macosx_10_9_x86_64.whl (39.4 MB)\n",
      "\u001b[2K     \u001b[90m━━━━━━━━━━━━━━━━━━━━━━━━━━━━━━━━━━━━━━━━\u001b[0m \u001b[32m39.4/39.4 MB\u001b[0m \u001b[31m25.9 MB/s\u001b[0m eta \u001b[36m0:00:00\u001b[0m00:01\u001b[0m00:01\u001b[0m\n",
      "\u001b[?25hCollecting threadpoolctl>=3.1.0\n",
      "  Downloading threadpoolctl-3.5.0-py3-none-any.whl (18 kB)\n",
      "Collecting joblib>=1.2.0\n",
      "  Downloading joblib-1.4.2-py3-none-any.whl (301 kB)\n",
      "\u001b[2K     \u001b[90m━━━━━━━━━━━━━━━━━━━━━━━━━━━━━━━━━━━━━━━\u001b[0m \u001b[32m301.8/301.8 kB\u001b[0m \u001b[31m9.0 MB/s\u001b[0m eta \u001b[36m0:00:00\u001b[0m\n",
      "\u001b[?25hRequirement already satisfied: zipp>=3.1.0 in /Users/ignaciobarrios/.pyenv/versions/3.9.17/lib/python3.9/site-packages (from importlib-resources>=3.2.0->matplotlib) (3.20.2)\n",
      "Requirement already satisfied: six>=1.5 in /Users/ignaciobarrios/.pyenv/versions/3.9.17/lib/python3.9/site-packages (from python-dateutil>=2.8.2->pandas) (1.16.0)\n",
      "Installing collected packages: pytz, tzdata, threadpoolctl, pyparsing, pillow, numpy, kiwisolver, joblib, importlib-resources, fonttools, cycler, scipy, patsy, pandas, contourpy, statsmodels, scikit-learn, matplotlib, seaborn\n",
      "Successfully installed contourpy-1.3.0 cycler-0.12.1 fonttools-4.56.0 importlib-resources-6.5.2 joblib-1.4.2 kiwisolver-1.4.7 matplotlib-3.9.4 numpy-2.0.2 pandas-2.2.3 patsy-1.0.1 pillow-11.1.0 pyparsing-3.2.1 pytz-2025.1 scikit-learn-1.6.1 scipy-1.13.1 seaborn-0.13.2 statsmodels-0.14.4 threadpoolctl-3.5.0 tzdata-2025.1\n",
      "\n",
      "\u001b[1m[\u001b[0m\u001b[34;49mnotice\u001b[0m\u001b[1;39;49m]\u001b[0m\u001b[39;49m A new release of pip is available: \u001b[0m\u001b[31;49m23.0.1\u001b[0m\u001b[39;49m -> \u001b[0m\u001b[32;49m25.0.1\u001b[0m\n",
      "\u001b[1m[\u001b[0m\u001b[34;49mnotice\u001b[0m\u001b[1;39;49m]\u001b[0m\u001b[39;49m To update, run: \u001b[0m\u001b[32;49mpip install --upgrade pip\u001b[0m\n",
      "Note: you may need to restart the kernel to use updated packages.\n"
     ]
    }
   ],
   "source": [
    "pip install numpy pandas matplotlib seaborn statsmodels scikit-learn"
   ]
  },
  {
   "cell_type": "code",
   "execution_count": 8,
   "metadata": {},
   "outputs": [
    {
     "name": "stderr",
     "output_type": "stream",
     "text": [
      "Matplotlib is building the font cache; this may take a moment.\n"
     ]
    }
   ],
   "source": [
    "# Imports\n",
    "# Packages for numerics and data manipulation\n",
    "import numpy as np\n",
    "import pandas as pd\n",
    "\n",
    "# Packages for visualization\n",
    "import matplotlib.pyplot as plt\n",
    "import seaborn as sns\n",
    "\n",
    "# Packages for date conversions\n",
    "import datetime as dt\n",
    "\n",
    "# Packages for statistical modeling and evaluation\n",
    "import statsmodels.api as sm\n",
    "import statsmodels.formula.api as smf\n",
    "from sklearn.model_selection import train_test_split\n",
    "from sklearn.linear_model import LinearRegression\n",
    "from sklearn.metrics import mean_squared_error, r2_score"
   ]
  },
  {
   "cell_type": "code",
   "execution_count": 11,
   "metadata": {},
   "outputs": [],
   "source": [
    "# Load dataset into dataframe \n",
    "df=pd.read_csv(\"2017_Yellow_Taxi_Trip_Data.csv\")"
   ]
  },
  {
   "cell_type": "markdown",
   "metadata": {},
   "source": [
    "#### **Task 2a. Explore data with EDA**\n",
    "\n",
    "Analyze and discover data, looking for correlations, missing data, outliers, and duplicates."
   ]
  },
  {
   "cell_type": "code",
   "execution_count": 13,
   "metadata": {},
   "outputs": [
    {
     "name": "stdout",
     "output_type": "stream",
     "text": [
      "Dataset Shape: (22699, 18)\n",
      "\n",
      "Dataset Info:\n",
      "<class 'pandas.core.frame.DataFrame'>\n",
      "RangeIndex: 22699 entries, 0 to 22698\n",
      "Data columns (total 18 columns):\n",
      " #   Column                 Non-Null Count  Dtype  \n",
      "---  ------                 --------------  -----  \n",
      " 0   Unnamed: 0             22699 non-null  int64  \n",
      " 1   VendorID               22699 non-null  int64  \n",
      " 2   tpep_pickup_datetime   22699 non-null  object \n",
      " 3   tpep_dropoff_datetime  22699 non-null  object \n",
      " 4   passenger_count        22699 non-null  int64  \n",
      " 5   trip_distance          22699 non-null  float64\n",
      " 6   RatecodeID             22699 non-null  int64  \n",
      " 7   store_and_fwd_flag     22699 non-null  object \n",
      " 8   PULocationID           22699 non-null  int64  \n",
      " 9   DOLocationID           22699 non-null  int64  \n",
      " 10  payment_type           22699 non-null  int64  \n",
      " 11  fare_amount            22699 non-null  float64\n",
      " 12  extra                  22699 non-null  float64\n",
      " 13  mta_tax                22699 non-null  float64\n",
      " 14  tip_amount             22699 non-null  float64\n",
      " 15  tolls_amount           22699 non-null  float64\n",
      " 16  improvement_surcharge  22699 non-null  float64\n",
      " 17  total_amount           22699 non-null  float64\n",
      "dtypes: float64(8), int64(7), object(3)\n",
      "memory usage: 3.1+ MB\n",
      "None\n"
     ]
    }
   ],
   "source": [
    "# Display basic information about the dataset\n",
    "print(\"Dataset Shape:\", df.shape)  # Number of rows and columns\n",
    "print(\"\\nDataset Info:\")\n",
    "print(df.info())  # Column types, non-null counts"
   ]
  },
  {
   "cell_type": "code",
   "execution_count": 14,
   "metadata": {},
   "outputs": [
    {
     "name": "stdout",
     "output_type": "stream",
     "text": [
      "\n",
      "Missing Data:\n",
      "Unnamed: 0               0\n",
      "VendorID                 0\n",
      "tpep_pickup_datetime     0\n",
      "tpep_dropoff_datetime    0\n",
      "passenger_count          0\n",
      "trip_distance            0\n",
      "RatecodeID               0\n",
      "store_and_fwd_flag       0\n",
      "PULocationID             0\n",
      "DOLocationID             0\n",
      "payment_type             0\n",
      "fare_amount              0\n",
      "extra                    0\n",
      "mta_tax                  0\n",
      "tip_amount               0\n",
      "tolls_amount             0\n",
      "improvement_surcharge    0\n",
      "total_amount             0\n",
      "dtype: int64\n"
     ]
    }
   ],
   "source": [
    "# Check for missing data\n",
    "print(\"\\nMissing Data:\")\n",
    "print(df.isna().sum())  # Count of missing values in each column"
   ]
  },
  {
   "cell_type": "code",
   "execution_count": 15,
   "metadata": {},
   "outputs": [
    {
     "name": "stdout",
     "output_type": "stream",
     "text": [
      "\n",
      "Number of Duplicates: 0\n"
     ]
    }
   ],
   "source": [
    "# Check for duplicates\n",
    "print(\"\\nNumber of Duplicates:\", df.duplicated().sum())  # Count duplicate rows"
   ]
  },
  {
   "cell_type": "code",
   "execution_count": 16,
   "metadata": {},
   "outputs": [
    {
     "name": "stdout",
     "output_type": "stream",
     "text": [
      "\n",
      "Dataset Shape after Dropping Duplicates: (22699, 18)\n"
     ]
    }
   ],
   "source": [
    "# Drop duplicates (if needed)\n",
    "df_cleaned = df.drop_duplicates()\n",
    "print(\"\\nDataset Shape after Dropping Duplicates:\", df_cleaned.shape)"
   ]
  },
  {
   "cell_type": "code",
   "execution_count": 19,
   "metadata": {},
   "outputs": [
    {
     "name": "stdout",
     "output_type": "stream",
     "text": [
      "\n",
      "Summary Statistics:\n"
     ]
    },
    {
     "data": {
      "text/html": [
       "<div>\n",
       "<style scoped>\n",
       "    .dataframe tbody tr th:only-of-type {\n",
       "        vertical-align: middle;\n",
       "    }\n",
       "\n",
       "    .dataframe tbody tr th {\n",
       "        vertical-align: top;\n",
       "    }\n",
       "\n",
       "    .dataframe thead th {\n",
       "        text-align: right;\n",
       "    }\n",
       "</style>\n",
       "<table border=\"1\" class=\"dataframe\">\n",
       "  <thead>\n",
       "    <tr style=\"text-align: right;\">\n",
       "      <th></th>\n",
       "      <th>count</th>\n",
       "      <th>mean</th>\n",
       "      <th>std</th>\n",
       "      <th>min</th>\n",
       "      <th>25%</th>\n",
       "      <th>50%</th>\n",
       "      <th>75%</th>\n",
       "      <th>max</th>\n",
       "    </tr>\n",
       "  </thead>\n",
       "  <tbody>\n",
       "    <tr>\n",
       "      <th>Unnamed: 0</th>\n",
       "      <td>22699.0</td>\n",
       "      <td>5.675849e+07</td>\n",
       "      <td>3.274493e+07</td>\n",
       "      <td>12127.0</td>\n",
       "      <td>28520556.00</td>\n",
       "      <td>56731504.00</td>\n",
       "      <td>85374524.00</td>\n",
       "      <td>1.134863e+08</td>\n",
       "    </tr>\n",
       "    <tr>\n",
       "      <th>VendorID</th>\n",
       "      <td>22699.0</td>\n",
       "      <td>1.556236e+00</td>\n",
       "      <td>4.968384e-01</td>\n",
       "      <td>1.0</td>\n",
       "      <td>1.00</td>\n",
       "      <td>2.00</td>\n",
       "      <td>2.00</td>\n",
       "      <td>2.000000e+00</td>\n",
       "    </tr>\n",
       "    <tr>\n",
       "      <th>passenger_count</th>\n",
       "      <td>22699.0</td>\n",
       "      <td>1.642319e+00</td>\n",
       "      <td>1.285231e+00</td>\n",
       "      <td>0.0</td>\n",
       "      <td>1.00</td>\n",
       "      <td>1.00</td>\n",
       "      <td>2.00</td>\n",
       "      <td>6.000000e+00</td>\n",
       "    </tr>\n",
       "    <tr>\n",
       "      <th>trip_distance</th>\n",
       "      <td>22699.0</td>\n",
       "      <td>2.913313e+00</td>\n",
       "      <td>3.653171e+00</td>\n",
       "      <td>0.0</td>\n",
       "      <td>0.99</td>\n",
       "      <td>1.61</td>\n",
       "      <td>3.06</td>\n",
       "      <td>3.396000e+01</td>\n",
       "    </tr>\n",
       "    <tr>\n",
       "      <th>RatecodeID</th>\n",
       "      <td>22699.0</td>\n",
       "      <td>1.043394e+00</td>\n",
       "      <td>7.083909e-01</td>\n",
       "      <td>1.0</td>\n",
       "      <td>1.00</td>\n",
       "      <td>1.00</td>\n",
       "      <td>1.00</td>\n",
       "      <td>9.900000e+01</td>\n",
       "    </tr>\n",
       "    <tr>\n",
       "      <th>PULocationID</th>\n",
       "      <td>22699.0</td>\n",
       "      <td>1.624124e+02</td>\n",
       "      <td>6.663337e+01</td>\n",
       "      <td>1.0</td>\n",
       "      <td>114.00</td>\n",
       "      <td>162.00</td>\n",
       "      <td>233.00</td>\n",
       "      <td>2.650000e+02</td>\n",
       "    </tr>\n",
       "    <tr>\n",
       "      <th>DOLocationID</th>\n",
       "      <td>22699.0</td>\n",
       "      <td>1.615280e+02</td>\n",
       "      <td>7.013969e+01</td>\n",
       "      <td>1.0</td>\n",
       "      <td>112.00</td>\n",
       "      <td>162.00</td>\n",
       "      <td>233.00</td>\n",
       "      <td>2.650000e+02</td>\n",
       "    </tr>\n",
       "    <tr>\n",
       "      <th>payment_type</th>\n",
       "      <td>22699.0</td>\n",
       "      <td>1.336887e+00</td>\n",
       "      <td>4.962111e-01</td>\n",
       "      <td>1.0</td>\n",
       "      <td>1.00</td>\n",
       "      <td>1.00</td>\n",
       "      <td>2.00</td>\n",
       "      <td>4.000000e+00</td>\n",
       "    </tr>\n",
       "    <tr>\n",
       "      <th>fare_amount</th>\n",
       "      <td>22699.0</td>\n",
       "      <td>1.302663e+01</td>\n",
       "      <td>1.324379e+01</td>\n",
       "      <td>-120.0</td>\n",
       "      <td>6.50</td>\n",
       "      <td>9.50</td>\n",
       "      <td>14.50</td>\n",
       "      <td>9.999900e+02</td>\n",
       "    </tr>\n",
       "    <tr>\n",
       "      <th>extra</th>\n",
       "      <td>22699.0</td>\n",
       "      <td>3.332746e-01</td>\n",
       "      <td>4.630966e-01</td>\n",
       "      <td>-1.0</td>\n",
       "      <td>0.00</td>\n",
       "      <td>0.00</td>\n",
       "      <td>0.50</td>\n",
       "      <td>4.500000e+00</td>\n",
       "    </tr>\n",
       "    <tr>\n",
       "      <th>mta_tax</th>\n",
       "      <td>22699.0</td>\n",
       "      <td>4.974448e-01</td>\n",
       "      <td>3.946499e-02</td>\n",
       "      <td>-0.5</td>\n",
       "      <td>0.50</td>\n",
       "      <td>0.50</td>\n",
       "      <td>0.50</td>\n",
       "      <td>5.000000e-01</td>\n",
       "    </tr>\n",
       "    <tr>\n",
       "      <th>tip_amount</th>\n",
       "      <td>22699.0</td>\n",
       "      <td>1.835781e+00</td>\n",
       "      <td>2.800626e+00</td>\n",
       "      <td>0.0</td>\n",
       "      <td>0.00</td>\n",
       "      <td>1.35</td>\n",
       "      <td>2.45</td>\n",
       "      <td>2.000000e+02</td>\n",
       "    </tr>\n",
       "    <tr>\n",
       "      <th>tolls_amount</th>\n",
       "      <td>22699.0</td>\n",
       "      <td>3.125415e-01</td>\n",
       "      <td>1.399212e+00</td>\n",
       "      <td>0.0</td>\n",
       "      <td>0.00</td>\n",
       "      <td>0.00</td>\n",
       "      <td>0.00</td>\n",
       "      <td>1.910000e+01</td>\n",
       "    </tr>\n",
       "    <tr>\n",
       "      <th>improvement_surcharge</th>\n",
       "      <td>22699.0</td>\n",
       "      <td>2.995506e-01</td>\n",
       "      <td>1.567274e-02</td>\n",
       "      <td>-0.3</td>\n",
       "      <td>0.30</td>\n",
       "      <td>0.30</td>\n",
       "      <td>0.30</td>\n",
       "      <td>3.000000e-01</td>\n",
       "    </tr>\n",
       "    <tr>\n",
       "      <th>total_amount</th>\n",
       "      <td>22699.0</td>\n",
       "      <td>1.631050e+01</td>\n",
       "      <td>1.609730e+01</td>\n",
       "      <td>-120.3</td>\n",
       "      <td>8.75</td>\n",
       "      <td>11.80</td>\n",
       "      <td>17.80</td>\n",
       "      <td>1.200290e+03</td>\n",
       "    </tr>\n",
       "  </tbody>\n",
       "</table>\n",
       "</div>"
      ],
      "text/plain": [
       "                         count          mean           std      min  \\\n",
       "Unnamed: 0             22699.0  5.675849e+07  3.274493e+07  12127.0   \n",
       "VendorID               22699.0  1.556236e+00  4.968384e-01      1.0   \n",
       "passenger_count        22699.0  1.642319e+00  1.285231e+00      0.0   \n",
       "trip_distance          22699.0  2.913313e+00  3.653171e+00      0.0   \n",
       "RatecodeID             22699.0  1.043394e+00  7.083909e-01      1.0   \n",
       "PULocationID           22699.0  1.624124e+02  6.663337e+01      1.0   \n",
       "DOLocationID           22699.0  1.615280e+02  7.013969e+01      1.0   \n",
       "payment_type           22699.0  1.336887e+00  4.962111e-01      1.0   \n",
       "fare_amount            22699.0  1.302663e+01  1.324379e+01   -120.0   \n",
       "extra                  22699.0  3.332746e-01  4.630966e-01     -1.0   \n",
       "mta_tax                22699.0  4.974448e-01  3.946499e-02     -0.5   \n",
       "tip_amount             22699.0  1.835781e+00  2.800626e+00      0.0   \n",
       "tolls_amount           22699.0  3.125415e-01  1.399212e+00      0.0   \n",
       "improvement_surcharge  22699.0  2.995506e-01  1.567274e-02     -0.3   \n",
       "total_amount           22699.0  1.631050e+01  1.609730e+01   -120.3   \n",
       "\n",
       "                               25%          50%          75%           max  \n",
       "Unnamed: 0             28520556.00  56731504.00  85374524.00  1.134863e+08  \n",
       "VendorID                      1.00         2.00         2.00  2.000000e+00  \n",
       "passenger_count               1.00         1.00         2.00  6.000000e+00  \n",
       "trip_distance                 0.99         1.61         3.06  3.396000e+01  \n",
       "RatecodeID                    1.00         1.00         1.00  9.900000e+01  \n",
       "PULocationID                114.00       162.00       233.00  2.650000e+02  \n",
       "DOLocationID                112.00       162.00       233.00  2.650000e+02  \n",
       "payment_type                  1.00         1.00         2.00  4.000000e+00  \n",
       "fare_amount                   6.50         9.50        14.50  9.999900e+02  \n",
       "extra                         0.00         0.00         0.50  4.500000e+00  \n",
       "mta_tax                       0.50         0.50         0.50  5.000000e-01  \n",
       "tip_amount                    0.00         1.35         2.45  2.000000e+02  \n",
       "tolls_amount                  0.00         0.00         0.00  1.910000e+01  \n",
       "improvement_surcharge         0.30         0.30         0.30  3.000000e-01  \n",
       "total_amount                  8.75        11.80        17.80  1.200290e+03  "
      ]
     },
     "execution_count": 19,
     "metadata": {},
     "output_type": "execute_result"
    }
   ],
   "source": [
    "# Summary statistics of numerical columns\n",
    "print(\"\\nSummary Statistics:\")\n",
    "df.describe().T"
   ]
  },
  {
   "cell_type": "markdown",
   "metadata": {},
   "source": [
    "#### **Task 2b. Convert pickup & dropoff columns to datetime**"
   ]
  },
  {
   "cell_type": "code",
   "execution_count": 21,
   "metadata": {},
   "outputs": [
    {
     "name": "stdout",
     "output_type": "stream",
     "text": [
      "\n",
      "Checking Data Types Before Conversion:\n",
      "tpep_pickup_datetime     object\n",
      "tpep_dropoff_datetime    object\n",
      "dtype: object\n"
     ]
    }
   ],
   "source": [
    "# Check the format of the datetime columns\n",
    "print(\"\\nChecking Data Types Before Conversion:\")\n",
    "print(df[['tpep_pickup_datetime', 'tpep_dropoff_datetime']].dtypes)  # Check column data types"
   ]
  },
  {
   "cell_type": "code",
   "execution_count": 22,
   "metadata": {},
   "outputs": [],
   "source": [
    "# Convert datetime columns to datetime format\n",
    "df['tpep_pickup_datetime'] = pd.to_datetime(df['tpep_pickup_datetime'], errors='coerce')\n",
    "df['tpep_dropoff_datetime'] = pd.to_datetime(df['tpep_dropoff_datetime'], errors='coerce')"
   ]
  },
  {
   "cell_type": "code",
   "execution_count": 23,
   "metadata": {},
   "outputs": [
    {
     "name": "stdout",
     "output_type": "stream",
     "text": [
      "\n",
      "Checking Data Types After Conversion:\n",
      "tpep_pickup_datetime     datetime64[ns]\n",
      "tpep_dropoff_datetime    datetime64[ns]\n",
      "dtype: object\n"
     ]
    }
   ],
   "source": [
    "# Verify the conversion\n",
    "print(\"\\nChecking Data Types After Conversion:\")\n",
    "print(df[['tpep_pickup_datetime', 'tpep_dropoff_datetime']].dtypes)"
   ]
  },
  {
   "cell_type": "markdown",
   "metadata": {},
   "source": [
    "#### **Task 2c. Create duration column**"
   ]
  },
  {
   "cell_type": "code",
   "execution_count": 24,
   "metadata": {},
   "outputs": [
    {
     "name": "stdout",
     "output_type": "stream",
     "text": [
      "  tpep_pickup_datetime tpep_dropoff_datetime   duration\n",
      "0  2017-03-25 08:55:43   2017-03-25 09:09:47  14.066667\n",
      "1  2017-04-11 14:53:28   2017-04-11 15:19:58  26.500000\n",
      "2  2017-12-15 07:26:56   2017-12-15 07:34:08   7.200000\n",
      "3  2017-05-07 13:17:59   2017-05-07 13:48:14  30.250000\n",
      "4  2017-04-15 23:32:20   2017-04-15 23:49:03  16.716667\n",
      "\n",
      "Checking for Negative or Zero Durations:\n",
      "       Unnamed: 0  VendorID tpep_pickup_datetime tpep_dropoff_datetime  \\\n",
      "472      52474677         1  2017-06-20 18:57:39   2017-06-20 18:57:39   \n",
      "795     101135030         1  2017-11-30 07:11:34   2017-11-30 07:11:34   \n",
      "1205    112363821         1  2017-01-18 17:53:45   2017-01-18 17:53:45   \n",
      "2440     63574825         1  2017-07-26 22:26:58   2017-07-26 22:26:58   \n",
      "2740     42450170         1  2017-05-12 12:49:56   2017-05-12 12:49:56   \n",
      "4171     12399699         1  2017-02-16 20:37:04   2017-02-16 20:37:04   \n",
      "4742     18394854         1  2017-03-05 06:41:16   2017-03-05 06:41:16   \n",
      "5630      6520188         1  2017-01-29 20:16:21   2017-01-29 20:16:21   \n",
      "7327     19562548         1  2017-03-08 16:11:57   2017-03-08 16:11:57   \n",
      "8839      9033526         1  2017-02-08 17:54:50   2017-02-08 17:54:50   \n",
      "8889        25813         1  2017-01-07 22:48:08   2017-01-07 22:48:08   \n",
      "9155    101666430         1  2017-12-01 18:41:19   2017-12-01 18:41:19   \n",
      "9356     93542707         1  2017-11-05 01:23:08   2017-11-05 01:06:09   \n",
      "12501    31724098         1  2017-04-18 17:47:58   2017-04-18 17:47:58   \n",
      "13062    85154968         1  2017-10-10 09:53:00   2017-10-10 09:53:00   \n",
      "14062    25713867         1  2017-03-30 19:56:31   2017-03-30 19:56:31   \n",
      "15295    83531047         1  2017-10-04 22:07:50   2017-10-04 22:07:50   \n",
      "16586    87350785         1  2017-10-17 04:39:44   2017-10-17 04:39:44   \n",
      "17270    20458610         1  2017-03-26 22:48:51   2017-03-26 22:48:51   \n",
      "17311    19238418         1  2017-03-07 18:16:47   2017-03-07 18:16:47   \n",
      "17567    34210304         1  2017-04-25 13:16:31   2017-04-25 13:16:31   \n",
      "19838    80341574         1  2017-09-24 13:37:55   2017-09-24 13:37:55   \n",
      "20638   106367018         1  2017-12-15 16:09:43   2017-12-15 16:09:43   \n",
      "21620    19232159         1  2017-03-07 17:58:40   2017-03-07 17:58:40   \n",
      "21836    65082578         2  2017-08-01 09:52:15   2017-08-01 09:52:15   \n",
      "21977    67022415         1  2017-08-08 07:28:47   2017-08-08 07:28:47   \n",
      "22026    63642923         1  2017-07-27 07:44:24   2017-07-27 07:44:24   \n",
      "\n",
      "       passenger_count  trip_distance  RatecodeID store_and_fwd_flag  \\\n",
      "472                  1            0.0           1                  N   \n",
      "795                  1            0.0           1                  N   \n",
      "1205                 1            0.0           1                  N   \n",
      "2440                 1            0.0           1                  N   \n",
      "2740                 1            0.0           1                  Y   \n",
      "4171                 1            0.0           1                  N   \n",
      "4742                 1            0.0           5                  N   \n",
      "5630                 1            0.0           1                  N   \n",
      "7327                 1            0.0           1                  N   \n",
      "8839                 1            0.0           1                  N   \n",
      "8889                 1            0.0           1                  N   \n",
      "9155                 4            0.0           1                  N   \n",
      "9356                 1            5.7           1                  N   \n",
      "12501                0            0.0          99                  N   \n",
      "13062                1            0.0           1                  N   \n",
      "14062                3            0.0           1                  N   \n",
      "15295                1            0.0           1                  N   \n",
      "16586                1            0.0           1                  N   \n",
      "17270                1            0.0           1                  N   \n",
      "17311                1            0.0           1                  N   \n",
      "17567                1            0.0           1                  N   \n",
      "19838                1            0.0           1                  N   \n",
      "20638                1            0.0           1                  N   \n",
      "21620                1            0.0           1                  N   \n",
      "21836                3            0.0           5                  N   \n",
      "21977                2            0.0           1                  N   \n",
      "22026                1            0.0           1                  N   \n",
      "\n",
      "       PULocationID  DOLocationID  payment_type  fare_amount  extra  mta_tax  \\\n",
      "472             162           264             2         9.50    1.0      0.5   \n",
      "795             246           264             2         8.00    0.0      0.5   \n",
      "1205            264           264             2         2.50    1.0      0.5   \n",
      "2440            162           264             2         5.50    0.5      0.5   \n",
      "2740            186           264             2        11.50    0.0      0.5   \n",
      "4171            238           264             2         9.50    0.5      0.5   \n",
      "4742            233           264             2        80.84    0.0      0.0   \n",
      "5630            132           264             2        39.50    0.5      0.5   \n",
      "7327            233           264             3        24.00    1.0      0.5   \n",
      "8839            164           264             2        18.50    1.0      0.5   \n",
      "8889            229           264             2         2.50    0.5      0.5   \n",
      "9155            163           264             2         2.50    1.0      0.5   \n",
      "9356            161           157             3        28.00    0.5      0.5   \n",
      "12501           264           264             1        77.20    0.0      0.5   \n",
      "13062           186           264             2         2.50    0.0      0.5   \n",
      "14062           113           264             2         2.50    0.5      0.5   \n",
      "15295           143           264             2         6.50    0.5      0.5   \n",
      "16586           145           264             2         2.50    0.5      0.5   \n",
      "17270           170           264             2         2.50    0.5      0.5   \n",
      "17311           162           264             2         2.50    1.0      0.5   \n",
      "17567           132           264             2        62.00    0.0      0.5   \n",
      "19838           234           264             2         2.50    0.0      0.5   \n",
      "20638            43           264             2         2.50    1.0      0.5   \n",
      "21620           237           264             2         2.50    1.0      0.5   \n",
      "21836           264           143             1        59.00    0.0      0.0   \n",
      "21977            75           264             2        10.50    0.0      0.5   \n",
      "22026            41           264             2        10.50    0.0      0.5   \n",
      "\n",
      "       tip_amount  tolls_amount  improvement_surcharge  total_amount  \\\n",
      "472           0.0           0.0                    0.3         11.30   \n",
      "795           0.0           0.0                    0.3          8.80   \n",
      "1205          0.0           0.0                    0.3          4.30   \n",
      "2440          0.0           0.0                    0.3          6.80   \n",
      "2740          0.0           0.0                    0.3         12.30   \n",
      "4171          0.0           0.0                    0.3         10.80   \n",
      "4742          0.0           0.0                    0.3         81.14   \n",
      "5630          0.0           0.0                    0.3         40.80   \n",
      "7327          0.0           0.0                    0.3         25.80   \n",
      "8839          0.0           0.0                    0.3         20.30   \n",
      "8889          0.0           0.0                    0.3          3.80   \n",
      "9155          0.0           0.0                    0.3          4.30   \n",
      "9356          0.0           0.0                    0.3         29.30   \n",
      "12501         0.0           0.0                    0.3         78.00   \n",
      "13062         0.0           0.0                    0.3          3.30   \n",
      "14062         0.0           0.0                    0.3          3.80   \n",
      "15295         0.0           0.0                    0.3          7.80   \n",
      "16586         0.0           0.0                    0.3          3.80   \n",
      "17270         0.0           0.0                    0.3          3.80   \n",
      "17311         0.0           0.0                    0.3          4.30   \n",
      "17567         0.0           0.0                    0.3         62.80   \n",
      "19838         0.0           0.0                    0.3          3.30   \n",
      "20638         0.0           0.0                    0.3          4.30   \n",
      "21620         0.0           0.0                    0.3          4.30   \n",
      "21836         9.0           0.0                    0.0         68.00   \n",
      "21977         0.0           0.0                    0.3         11.30   \n",
      "22026         0.0           0.0                    0.3         11.30   \n",
      "\n",
      "        duration  \n",
      "472     0.000000  \n",
      "795     0.000000  \n",
      "1205    0.000000  \n",
      "2440    0.000000  \n",
      "2740    0.000000  \n",
      "4171    0.000000  \n",
      "4742    0.000000  \n",
      "5630    0.000000  \n",
      "7327    0.000000  \n",
      "8839    0.000000  \n",
      "8889    0.000000  \n",
      "9155    0.000000  \n",
      "9356  -16.983333  \n",
      "12501   0.000000  \n",
      "13062   0.000000  \n",
      "14062   0.000000  \n",
      "15295   0.000000  \n",
      "16586   0.000000  \n",
      "17270   0.000000  \n",
      "17311   0.000000  \n",
      "17567   0.000000  \n",
      "19838   0.000000  \n",
      "20638   0.000000  \n",
      "21620   0.000000  \n",
      "21836   0.000000  \n",
      "21977   0.000000  \n",
      "22026   0.000000  \n"
     ]
    }
   ],
   "source": [
    "# Create `duration` column (in minutes)\n",
    "df['duration'] = (df['tpep_dropoff_datetime'] - df['tpep_pickup_datetime']).dt.total_seconds() / 60\n",
    "\n",
    "# Display the first few rows to verify\n",
    "print(df[['tpep_pickup_datetime', 'tpep_dropoff_datetime', 'duration']].head())\n",
    "\n",
    "# Check for any negative or zero durations (which may indicate data issues)\n",
    "print(\"\\nChecking for Negative or Zero Durations:\")\n",
    "print(df[df['duration'] <= 0])\n"
   ]
  },
  {
   "cell_type": "markdown",
   "metadata": {},
   "source": [
    "#### **Outliers**"
   ]
  },
  {
   "cell_type": "code",
   "execution_count": 25,
   "metadata": {},
   "outputs": [
    {
     "name": "stdout",
     "output_type": "stream",
     "text": [
      "<class 'pandas.core.frame.DataFrame'>\n",
      "RangeIndex: 22699 entries, 0 to 22698\n",
      "Data columns (total 19 columns):\n",
      " #   Column                 Non-Null Count  Dtype         \n",
      "---  ------                 --------------  -----         \n",
      " 0   Unnamed: 0             22699 non-null  int64         \n",
      " 1   VendorID               22699 non-null  int64         \n",
      " 2   tpep_pickup_datetime   22699 non-null  datetime64[ns]\n",
      " 3   tpep_dropoff_datetime  22699 non-null  datetime64[ns]\n",
      " 4   passenger_count        22699 non-null  int64         \n",
      " 5   trip_distance          22699 non-null  float64       \n",
      " 6   RatecodeID             22699 non-null  int64         \n",
      " 7   store_and_fwd_flag     22699 non-null  object        \n",
      " 8   PULocationID           22699 non-null  int64         \n",
      " 9   DOLocationID           22699 non-null  int64         \n",
      " 10  payment_type           22699 non-null  int64         \n",
      " 11  fare_amount            22699 non-null  float64       \n",
      " 12  extra                  22699 non-null  float64       \n",
      " 13  mta_tax                22699 non-null  float64       \n",
      " 14  tip_amount             22699 non-null  float64       \n",
      " 15  tolls_amount           22699 non-null  float64       \n",
      " 16  improvement_surcharge  22699 non-null  float64       \n",
      " 17  total_amount           22699 non-null  float64       \n",
      " 18  duration               22699 non-null  float64       \n",
      "dtypes: datetime64[ns](2), float64(9), int64(7), object(1)\n",
      "memory usage: 3.3+ MB\n",
      "None\n"
     ]
    }
   ],
   "source": [
    "# Display dataset info to identify numerical columns\n",
    "print(df.info())"
   ]
  },
  {
   "cell_type": "markdown",
   "metadata": {},
   "source": [
    "### **Task 2d. Box plots**\n",
    "\n",
    "Plot a box plot for each feature: trip_distance, fare_amount, duration."
   ]
  },
  {
   "cell_type": "code",
   "execution_count": 27,
   "metadata": {},
   "outputs": [
    {
     "data": {
      "image/png": "[encoded data removed]",
      "text/plain": [
       "<Figure size 600x400 with 1 Axes>"
      ]
     },
     "metadata": {},
     "output_type": "display_data"
    },
    {
     "data": {
      "image/png": "[encoded data removed]",
      "text/plain": [
       "<Figure size 600x400 with 1 Axes>"
      ]
     },
     "metadata": {},
     "output_type": "display_data"
    },
    {
     "data": {
      "image/png": "[encoded data removed]",
      "text/plain": [
       "<Figure size 600x400 with 1 Axes>"
      ]
     },
     "metadata": {},
     "output_type": "display_data"
    }
   ],
   "source": [
    "# Import necessary libraries\n",
    "import matplotlib.pyplot as plt\n",
    "import seaborn as sns\n",
    "\n",
    "# Define the columns to plot\n",
    "columns_to_plot = [\"trip_distance\", \"fare_amount\", \"duration\"]\n",
    "\n",
    "# Create separate box plots for each feature\n",
    "for col in columns_to_plot:\n",
    "    plt.figure(figsize=(6, 4))\n",
    "    sns.boxplot(y=df[col])\n",
    "    plt.title(f\"Box Plot of {col}\")\n",
    "    plt.ylabel(col)\n",
    "    plt.show()"
   ]
  },
  {
   "cell_type": "markdown",
   "metadata": {},
   "source": [
    "**Questions:**\n",
    "\n",
    "Which variable(s) contains outliers? fare_amount and duration have an important amount of outliers. trip_distance has also outliers, but thez are more equiallz distributed\n",
    "\n",
    "Are the values in the trip_distance column unbelievable? Maximum value is 35 miles, which is reasonable for a long taxi trip\n",
    "\n",
    "What about the lower end? Do distances, fares, and durations of 0 (or negative values) make sense? There might be cases where distance are verz short, such as a block, which might create neat to zero values."
   ]
  },
  {
   "cell_type": "markdown",
   "metadata": {},
   "source": [
    "### **Task 2e. Imputations**\n",
    "\n",
    "##### `trip_distance` outliers\n",
    "\n",
    "You know from the summary statistics that there are trip distances of 0. Are these reflective of erroneous data, or are they very short trips that get rounded down?\n",
    "\n",
    "To check, sort the column values, eliminate duplicates, and inspect the least 10 values. Are they rounded values or precise values?"
   ]
  },
  {
   "cell_type": "code",
   "execution_count": 31,
   "metadata": {},
   "outputs": [
    {
     "name": "stdout",
     "output_type": "stream",
     "text": [
      "Smallest 10 unique trip distances:\n",
      "[0.   0.01 0.02 0.03 0.04 0.05 0.06 0.07 0.08 0.09]\n"
     ]
    }
   ],
   "source": [
    "# Inspect the smallest unique values in the trip_distance column\n",
    "unique_trip_distances = df[\"trip_distance\"].sort_values().unique()\n",
    "\n",
    "# Display the smallest 10 unique values\n",
    "print(\"Smallest 10 unique trip distances:\")\n",
    "print(unique_trip_distances[:10])"
   ]
  },
  {
   "cell_type": "code",
   "execution_count": 32,
   "metadata": {},
   "outputs": [
    {
     "name": "stdout",
     "output_type": "stream",
     "text": [
      "Number of rides with zero trip distance: 148\n"
     ]
    }
   ],
   "source": [
    "# Count the number of rides where trip_distance is zero\n",
    "zero_distance_count = (df[\"trip_distance\"] == 0).sum()\n",
    "\n",
    "# Display the result\n",
    "print(f\"Number of rides with zero trip distance: {zero_distance_count}\")"
   ]
  },
  {
   "cell_type": "markdown",
   "metadata": {},
   "source": [
    "##### `fare_amount` outliers\n",
    "\n",
    "Question: What do you notice about the values in the `fare_amount` column?\n",
    "\n",
    "Impute values less than $0 with 0."
   ]
  },
  {
   "cell_type": "code",
   "execution_count": 33,
   "metadata": {},
   "outputs": [
    {
     "name": "stdout",
     "output_type": "stream",
     "text": [
      "Summary statistics of fare_amount:\n",
      "count    22699.000000\n",
      "mean        13.026629\n",
      "std         13.243791\n",
      "min       -120.000000\n",
      "25%          6.500000\n",
      "50%          9.500000\n",
      "75%         14.500000\n",
      "max        999.990000\n",
      "Name: fare_amount, dtype: float64\n"
     ]
    }
   ],
   "source": [
    "# Summary statistics of fare_amount\n",
    "print(\"Summary statistics of fare_amount:\")\n",
    "print(df[\"fare_amount\"].describe())"
   ]
  },
  {
   "cell_type": "code",
   "execution_count": 34,
   "metadata": {},
   "outputs": [],
   "source": [
    "# Impute negative fare amounts with 0\n",
    "df.loc[df[\"fare_amount\"] < 0, \"fare_amount\"] = 0"
   ]
  },
  {
   "cell_type": "code",
   "execution_count": 35,
   "metadata": {},
   "outputs": [],
   "source": [
    "# Compute IQR\n",
    "Q1 = df[\"fare_amount\"].quantile(0.25)\n",
    "Q3 = df[\"fare_amount\"].quantile(0.75)\n",
    "IQR = Q3 - Q1\n",
    "\n",
    "# Define the upper threshold as Q3 + (6 * IQR)\n",
    "upper_threshold = Q3 + (6 * IQR)\n",
    "\n",
    "# Impute fare amounts above the upper threshold\n",
    "df.loc[df[\"fare_amount\"] > upper_threshold, \"fare_amount\"] = upper_threshold"
   ]
  },
  {
   "cell_type": "code",
   "execution_count": 36,
   "metadata": {},
   "outputs": [
    {
     "name": "stdout",
     "output_type": "stream",
     "text": [
      "\n",
      "Updated summary statistics of fare_amount after imputation:\n",
      "count    22699.000000\n",
      "mean        12.897913\n",
      "std         10.541137\n",
      "min          0.000000\n",
      "25%          6.500000\n",
      "50%          9.500000\n",
      "75%         14.500000\n",
      "max         62.500000\n",
      "Name: fare_amount, dtype: float64\n"
     ]
    }
   ],
   "source": [
    "# Display updated summary statistics\n",
    "print(\"\\nUpdated summary statistics of fare_amount after imputation:\")\n",
    "print(df[\"fare_amount\"].describe())"
   ]
  },
  {
   "cell_type": "markdown",
   "metadata": {},
   "source": [
    "##### `duration` outliers"
   ]
  },
  {
   "cell_type": "code",
   "execution_count": null,
   "metadata": {},
   "outputs": [],
   "source": []
  }
 ],
 "metadata": {
  "kernelspec": {
   "display_name": "Python 3",
   "language": "python",
   "name": "python3"
  },
  "language_info": {
   "codemirror_mode": {
    "name": "ipython",
    "version": 3
   },
   "file_extension": ".py",
   "mimetype": "text/x-python",
   "name": "python",
   "nbconvert_exporter": "python",
   "pygments_lexer": "ipython3",
   "version": "3.9.17"
  }
 },
 "nbformat": 4,
 "nbformat_minor": 2
}
